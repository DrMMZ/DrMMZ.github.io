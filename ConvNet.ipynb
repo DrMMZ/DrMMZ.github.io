{
  "nbformat": 4,
  "nbformat_minor": 0,
  "metadata": {
    "colab": {
      "name": "ConvNet.ipynb",
      "provenance": [],
      "collapsed_sections": []
    },
    "kernelspec": {
      "name": "python3",
      "display_name": "Python 3"
    },
    "accelerator": "GPU"
  },
  "cells": [
    {
      "cell_type": "code",
      "metadata": {
        "id": "T2QFnvVUiiSc",
        "colab_type": "code",
        "colab": {}
      },
      "source": [
        "import tensorflow as tf\n",
        "import numpy as np\n",
        "import matplotlib.pyplot as plt"
      ],
      "execution_count": 0,
      "outputs": []
    },
    {
      "cell_type": "code",
      "metadata": {
        "id": "deasmtKV-pnE",
        "colab_type": "code",
        "colab": {}
      },
      "source": [
        "def load_cifar10(num_training=49000, num_validation=1000, num_test=10000):\n",
        "    \"\"\"\n",
        "    Load the CIFAR-10 dataset and perform preprocessing.\n",
        "\n",
        "    Inputs:\n",
        "    -num_training: number of training examples\n",
        "    -num_validation: number of validation examples\n",
        "    -num_test: number of test examples\n",
        "\n",
        "    Output:\n",
        "    a dictionary with keys 'X_train', 'y_train', 'X_val', 'y_val', 'X_test' and\n",
        "    'y_test'\n",
        "    \"\"\"\n",
        "    # Load the CIFAR-10 dataset and change data types and shapes\n",
        "    cifar10 = tf.keras.datasets.cifar10.load_data()\n",
        "    (X_train, y_train), (X_test, y_test) = cifar10\n",
        "\n",
        "    # Subsample the data\n",
        "    mask = range(num_test)\n",
        "    X_test = X_test[mask]\n",
        "    y_test = y_test[mask]\n",
        "    mask = range(num_training, num_training + num_validation)\n",
        "    X_val = X_train[mask]\n",
        "    y_val = y_train[mask]\n",
        "    mask = range(num_training)\n",
        "    X_train = X_train[mask]\n",
        "    y_train = y_train[mask]\n",
        "    \n",
        "    # Normalize the data over the channels by subtracting the mean pixel and dividing std \n",
        "    mean_pixel = X_train.mean(axis=(0, 1, 2), keepdims=True)\n",
        "    std_pixel = X_train.std(axis=(0, 1, 2), keepdims=True)\n",
        "    X_train = (X_train - mean_pixel) / std_pixel\n",
        "    X_val = (X_val - mean_pixel) / std_pixel\n",
        "    X_test = (X_test - mean_pixel) / std_pixel\n",
        "\n",
        "    return {\n",
        "      'X_train': X_train, 'y_train': y_train,\n",
        "      'X_val': X_val, 'y_val': y_val,\n",
        "      'X_test': X_test, 'y_test': y_test\n",
        "    }"
      ],
      "execution_count": 0,
      "outputs": []
    },
    {
      "cell_type": "code",
      "metadata": {
        "id": "htyN0fx-BhXB",
        "colab_type": "code",
        "colab": {
          "base_uri": "https://localhost:8080/",
          "height": 155
        },
        "outputId": "82f6efbc-b29c-44bd-a585-43a29eff36d6"
      },
      "source": [
        "data = load_cifar10()\n",
        "\n",
        "for k, v in data.items():\n",
        "  print('%s: ' % k, v.shape, v.dtype)"
      ],
      "execution_count": 3,
      "outputs": [
        {
          "output_type": "stream",
          "text": [
            "Downloading data from https://www.cs.toronto.edu/~kriz/cifar-10-python.tar.gz\n",
            "170500096/170498071 [==============================] - 4s 0us/step\n",
            "X_train:  (49000, 32, 32, 3) float64\n",
            "y_train:  (49000, 1) uint8\n",
            "X_val:  (1000, 32, 32, 3) float64\n",
            "y_val:  (1000, 1) uint8\n",
            "X_test:  (10000, 32, 32, 3) float64\n",
            "y_test:  (10000, 1) uint8\n"
          ],
          "name": "stdout"
        }
      ]
    },
    {
      "cell_type": "code",
      "metadata": {
        "id": "Ul00hbuVspLt",
        "colab_type": "code",
        "colab": {}
      },
      "source": [
        "def conv_bn_relu(X, num_filters, filter_size=3, stride=1, pad='same'):\n",
        "  regularizer = tf.keras.regularizers.l2(1e-3)\n",
        "\n",
        "  X = tf.keras.layers.Conv2D(num_filters, filter_size, stride, pad, kernel_regularizer=regularizer)(X)\n",
        "  X = tf.keras.layers.BatchNormalization()(X)\n",
        "  X = tf.keras.layers.Activation('relu')(X)\n",
        "  return X"
      ],
      "execution_count": 0,
      "outputs": []
    },
    {
      "cell_type": "code",
      "metadata": {
        "id": "YWqJj-N-HiIT",
        "colab_type": "code",
        "colab": {}
      },
      "source": [
        "def CustomConvNet(input_shape=(32,32,3), num_classes=10, reg=1e-1):\n",
        "  filters = [32, 64, 128]\n",
        "  regularizer = tf.keras.regularizers.l2(reg)\n",
        "\n",
        "  X_input = tf.keras.Input(input_shape)\n",
        "\n",
        "  X = tf.keras.layers.ZeroPadding2D(padding=1)(X_input)\n",
        "\n",
        "  # stage 1\n",
        "  X = conv_bn_relu(X, filters[0])\n",
        "  X = conv_bn_relu(X, filters[0])\n",
        "  X = tf.keras.layers.MaxPool2D(3,2)(X)\n",
        "\n",
        "  # stage 2\n",
        "  X = conv_bn_relu(X, filters[1])\n",
        "  X = conv_bn_relu(X, filters[1])\n",
        "  X = conv_bn_relu(X, filters[1])\n",
        "  X = tf.keras.layers.MaxPool2D(3,2)(X)\n",
        "\n",
        "  # stage 3\n",
        "  X = conv_bn_relu(X, filters[2])\n",
        "  X = conv_bn_relu(X, filters[2])\n",
        "  X = conv_bn_relu(X, filters[2])\n",
        "  X = tf.keras.layers.MaxPool2D(3,2)(X)\n",
        "  \n",
        "  # stage 4\n",
        "  X = tf.keras.layers.Flatten()(X)\n",
        "  X = tf.keras.layers.Dense(300, kernel_regularizer=regularizer)(X)\n",
        "  X = tf.keras.layers.Dense(100, kernel_regularizer=regularizer)(X)\n",
        "  X = tf.keras.layers.Dense(num_classes, activation='softmax', kernel_regularizer=regularizer)(X)\n",
        "\n",
        "  model = tf.keras.Model(X_input, X)\n",
        "\n",
        "  return model"
      ],
      "execution_count": 0,
      "outputs": []
    },
    {
      "cell_type": "code",
      "metadata": {
        "id": "QyF4CHHbMrXz",
        "colab_type": "code",
        "colab": {
          "base_uri": "https://localhost:8080/",
          "height": 1000
        },
        "outputId": "bdbaef4d-97b1-4072-fc9b-277363133430"
      },
      "source": [
        "model = CustomConvNet()\n",
        "model.summary()"
      ],
      "execution_count": 6,
      "outputs": [
        {
          "output_type": "stream",
          "text": [
            "Model: \"model\"\n",
            "_________________________________________________________________\n",
            "Layer (type)                 Output Shape              Param #   \n",
            "=================================================================\n",
            "input_1 (InputLayer)         [(None, 32, 32, 3)]       0         \n",
            "_________________________________________________________________\n",
            "zero_padding2d (ZeroPadding2 (None, 34, 34, 3)         0         \n",
            "_________________________________________________________________\n",
            "conv2d (Conv2D)              (None, 34, 34, 32)        896       \n",
            "_________________________________________________________________\n",
            "batch_normalization (BatchNo (None, 34, 34, 32)        128       \n",
            "_________________________________________________________________\n",
            "activation (Activation)      (None, 34, 34, 32)        0         \n",
            "_________________________________________________________________\n",
            "conv2d_1 (Conv2D)            (None, 34, 34, 32)        9248      \n",
            "_________________________________________________________________\n",
            "batch_normalization_1 (Batch (None, 34, 34, 32)        128       \n",
            "_________________________________________________________________\n",
            "activation_1 (Activation)    (None, 34, 34, 32)        0         \n",
            "_________________________________________________________________\n",
            "max_pooling2d (MaxPooling2D) (None, 16, 16, 32)        0         \n",
            "_________________________________________________________________\n",
            "conv2d_2 (Conv2D)            (None, 16, 16, 64)        18496     \n",
            "_________________________________________________________________\n",
            "batch_normalization_2 (Batch (None, 16, 16, 64)        256       \n",
            "_________________________________________________________________\n",
            "activation_2 (Activation)    (None, 16, 16, 64)        0         \n",
            "_________________________________________________________________\n",
            "conv2d_3 (Conv2D)            (None, 16, 16, 64)        36928     \n",
            "_________________________________________________________________\n",
            "batch_normalization_3 (Batch (None, 16, 16, 64)        256       \n",
            "_________________________________________________________________\n",
            "activation_3 (Activation)    (None, 16, 16, 64)        0         \n",
            "_________________________________________________________________\n",
            "conv2d_4 (Conv2D)            (None, 16, 16, 64)        36928     \n",
            "_________________________________________________________________\n",
            "batch_normalization_4 (Batch (None, 16, 16, 64)        256       \n",
            "_________________________________________________________________\n",
            "activation_4 (Activation)    (None, 16, 16, 64)        0         \n",
            "_________________________________________________________________\n",
            "max_pooling2d_1 (MaxPooling2 (None, 7, 7, 64)          0         \n",
            "_________________________________________________________________\n",
            "conv2d_5 (Conv2D)            (None, 7, 7, 128)         73856     \n",
            "_________________________________________________________________\n",
            "batch_normalization_5 (Batch (None, 7, 7, 128)         512       \n",
            "_________________________________________________________________\n",
            "activation_5 (Activation)    (None, 7, 7, 128)         0         \n",
            "_________________________________________________________________\n",
            "conv2d_6 (Conv2D)            (None, 7, 7, 128)         147584    \n",
            "_________________________________________________________________\n",
            "batch_normalization_6 (Batch (None, 7, 7, 128)         512       \n",
            "_________________________________________________________________\n",
            "activation_6 (Activation)    (None, 7, 7, 128)         0         \n",
            "_________________________________________________________________\n",
            "conv2d_7 (Conv2D)            (None, 7, 7, 128)         147584    \n",
            "_________________________________________________________________\n",
            "batch_normalization_7 (Batch (None, 7, 7, 128)         512       \n",
            "_________________________________________________________________\n",
            "activation_7 (Activation)    (None, 7, 7, 128)         0         \n",
            "_________________________________________________________________\n",
            "max_pooling2d_2 (MaxPooling2 (None, 3, 3, 128)         0         \n",
            "_________________________________________________________________\n",
            "flatten (Flatten)            (None, 1152)              0         \n",
            "_________________________________________________________________\n",
            "dense (Dense)                (None, 300)               345900    \n",
            "_________________________________________________________________\n",
            "dense_1 (Dense)              (None, 100)               30100     \n",
            "_________________________________________________________________\n",
            "dense_2 (Dense)              (None, 10)                1010      \n",
            "=================================================================\n",
            "Total params: 851,090\n",
            "Trainable params: 849,810\n",
            "Non-trainable params: 1,280\n",
            "_________________________________________________________________\n"
          ],
          "name": "stdout"
        }
      ]
    },
    {
      "cell_type": "code",
      "metadata": {
        "id": "cx1yaGnbQSEe",
        "colab_type": "code",
        "colab": {
          "base_uri": "https://localhost:8080/",
          "height": 363
        },
        "outputId": "167bc9bd-244e-4046-87b5-fddf17016264"
      },
      "source": [
        "lr = 1e-3\n",
        "\n",
        "model.compile(optimizer=tf.keras.optimizers.Adam(lr),\n",
        "              loss='sparse_categorical_crossentropy',\n",
        "              metrics=['acc'])\n",
        "\n",
        "history = model.fit(data['X_train'], data['y_train'], batch_size=64, epochs=10,\n",
        "                    validation_data=(data['X_val'], data['y_val']))"
      ],
      "execution_count": 7,
      "outputs": [
        {
          "output_type": "stream",
          "text": [
            "Epoch 1/10\n",
            "766/766 [==============================] - 23s 30ms/step - loss: 9.8906 - acc: 0.4246 - val_loss: 2.0352 - val_acc: 0.5530\n",
            "Epoch 2/10\n",
            "766/766 [==============================] - 22s 29ms/step - loss: 1.6713 - acc: 0.6200 - val_loss: 1.6594 - val_acc: 0.6010\n",
            "Epoch 3/10\n",
            "766/766 [==============================] - 22s 29ms/step - loss: 1.3991 - acc: 0.6860 - val_loss: 1.5087 - val_acc: 0.6120\n",
            "Epoch 4/10\n",
            "766/766 [==============================] - 22s 29ms/step - loss: 1.2761 - acc: 0.7249 - val_loss: 1.8432 - val_acc: 0.5570\n",
            "Epoch 5/10\n",
            "766/766 [==============================] - 22s 29ms/step - loss: 1.2087 - acc: 0.7486 - val_loss: 1.2833 - val_acc: 0.7350\n",
            "Epoch 6/10\n",
            "766/766 [==============================] - 22s 29ms/step - loss: 1.1614 - acc: 0.7725 - val_loss: 1.3768 - val_acc: 0.6870\n",
            "Epoch 7/10\n",
            "766/766 [==============================] - 22s 29ms/step - loss: 1.1204 - acc: 0.7890 - val_loss: 1.2821 - val_acc: 0.7310\n",
            "Epoch 8/10\n",
            "766/766 [==============================] - 22s 29ms/step - loss: 1.0826 - acc: 0.8006 - val_loss: 1.4764 - val_acc: 0.6910\n",
            "Epoch 9/10\n",
            "766/766 [==============================] - 22s 29ms/step - loss: 1.0542 - acc: 0.8134 - val_loss: 1.3058 - val_acc: 0.7360\n",
            "Epoch 10/10\n",
            "766/766 [==============================] - 22s 29ms/step - loss: 1.0154 - acc: 0.8230 - val_loss: 1.3036 - val_acc: 0.7400\n"
          ],
          "name": "stdout"
        }
      ]
    },
    {
      "cell_type": "code",
      "metadata": {
        "id": "_W86WyyzRHll",
        "colab_type": "code",
        "colab": {
          "base_uri": "https://localhost:8080/",
          "height": 730
        },
        "outputId": "d2888a3f-6e8c-4131-e72b-35bfcb500b9c"
      },
      "source": [
        "plt.subplot(2, 1, 1)\n",
        "plt.title('Training Loss')\n",
        "plt.plot(history.history['loss'], '-o')\n",
        "plt.xlabel('Epoch')\n",
        "\n",
        "plt.subplot(2, 1, 2)\n",
        "plt.title('Accuracy')\n",
        "plt.plot(history.history['acc'], '-o', label='train')\n",
        "plt.plot(history.history['val_acc'], '-o', label='val')\n",
        "plt.xlabel('Epoch')\n",
        "plt.legend(loc='lower right')\n",
        "plt.gcf().set_size_inches(15, 12)\n",
        "plt.show()"
      ],
      "execution_count": 8,
      "outputs": [
        {
          "output_type": "display_data",
          "data": {
            "image/png": "[encoded data removed]",
            "text/plain": [
              "<Figure size 1080x864 with 2 Axes>"
            ]
          },
          "metadata": {
            "tags": [],
            "needs_background": "light"
          }
        }
      ]
    },
    {
      "cell_type": "code",
      "metadata": {
        "id": "O0TSDma1faJu",
        "colab_type": "code",
        "colab": {
          "base_uri": "https://localhost:8080/",
          "height": 52
        },
        "outputId": "dc7de4cd-6ec8-4ffe-9f59-931251c6d9ce"
      },
      "source": [
        "model.evaluate(data['X_test'], data['y_test'])"
      ],
      "execution_count": 9,
      "outputs": [
        {
          "output_type": "stream",
          "text": [
            "313/313 [==============================] - 2s 7ms/step - loss: 1.2737 - acc: 0.7386\n"
          ],
          "name": "stdout"
        },
        {
          "output_type": "execute_result",
          "data": {
            "text/plain": [
              "[1.2736510038375854, 0.7386000156402588]"
            ]
          },
          "metadata": {
            "tags": []
          },
          "execution_count": 9
        }
      ]
    }
  ]
}