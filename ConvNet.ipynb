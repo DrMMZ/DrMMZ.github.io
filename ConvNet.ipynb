{
  "nbformat": 4,
  "nbformat_minor": 0,
  "metadata": {
    "colab": {
      "name": "ConvNet.ipynb",
      "provenance": [],
      "collapsed_sections": []
    },
    "kernelspec": {
      "name": "python3",
      "display_name": "Python 3"
    },
    "accelerator": "GPU"
  },
  "cells": [
    {
      "cell_type": "markdown",
      "metadata": {
        "id": "BJ6LHgb3gC85",
        "colab_type": "text"
      },
      "source": [
        "# **Sequential Convolutional Network**\n",
        "\n",
        "Using TensorFlow, we experiment with different ConvNet architectures on the [CIFAR10](http://www.cs.toronto.edu/~kriz/cifar.html) dataset. The final model took inspiration from [VGG-16](https://arxiv.org/abs/1409.1556) that achieves above 70% accuracy on the test set within 10 epochs training using Adam optimizer. In particular, the architecture is the following:\n",
        "\n",
        "(Conv32-BatchNorm-ReLU)$\\times$2 - MaxPool - (Conv64-BatchNorm-ReLU)$\\times$3 - MaxPool - (Conv128-BatchNorm-ReLU)$\\times$3 - MaxPool - FullyConnected$\\times$2"
      ]
    },
    {
      "cell_type": "code",
      "metadata": {
        "id": "T2QFnvVUiiSc",
        "colab_type": "code",
        "colab": {}
      },
      "source": [
        "import tensorflow as tf\n",
        "import numpy as np\n",
        "import matplotlib.pyplot as plt"
      ],
      "execution_count": 0,
      "outputs": []
    },
    {
      "cell_type": "code",
      "metadata": {
        "id": "deasmtKV-pnE",
        "colab_type": "code",
        "colab": {}
      },
      "source": [
        "def load_cifar10(num_training=49000, num_validation=1000, num_test=10000):\n",
        "    \"\"\"\n",
        "    Load the CIFAR-10 dataset and perform preprocessing.\n",
        "\n",
        "    Inputs:\n",
        "    -num_training: number of training examples\n",
        "    -num_validation: number of validation examples\n",
        "    -num_test: number of test examples\n",
        "\n",
        "    Output:\n",
        "    a dictionary with keys 'X_train', 'y_train', 'X_val', 'y_val', 'X_test' and\n",
        "    'y_test'\n",
        "    \"\"\"\n",
        "    # Load the CIFAR-10 dataset and change data types and shapes\n",
        "    cifar10 = tf.keras.datasets.cifar10.load_data()\n",
        "    (X_train, y_train), (X_test, y_test) = cifar10\n",
        "    #X_train = np.asarray(X_train, dtype=np.float32)\n",
        "    #y_train = np.asarray(y_train, dtype=np.int32).flatten()\n",
        "    #X_test = np.asarray(X_test, dtype=np.float32)\n",
        "    #y_test = np.asarray(y_test, dtype=np.int32).flatten()\n",
        "\n",
        "    # Subsample the data\n",
        "    mask = range(num_test)\n",
        "    X_test = X_test[mask]\n",
        "    y_test = y_test[mask]\n",
        "    mask = range(num_training, num_training + num_validation)\n",
        "    X_val = X_train[mask]\n",
        "    y_val = y_train[mask]\n",
        "    mask = range(num_training)\n",
        "    X_train = X_train[mask]\n",
        "    y_train = y_train[mask]\n",
        "    \n",
        "    # Normalize the data over the channels by subtracting the mean pixel and dividing std \n",
        "    mean_pixel = X_train.mean(axis=(0, 1, 2), keepdims=True)\n",
        "    std_pixel = X_train.std(axis=(0, 1, 2), keepdims=True)\n",
        "    X_train = (X_train - mean_pixel) / std_pixel\n",
        "    X_val = (X_val - mean_pixel) / std_pixel\n",
        "    X_test = (X_test - mean_pixel) / std_pixel\n",
        "\n",
        "    return {\n",
        "      'X_train': X_train, 'y_train': y_train,\n",
        "      'X_val': X_val, 'y_val': y_val,\n",
        "      'X_test': X_test, 'y_test': y_test\n",
        "    }"
      ],
      "execution_count": 0,
      "outputs": []
    },
    {
      "cell_type": "code",
      "metadata": {
        "id": "htyN0fx-BhXB",
        "colab_type": "code",
        "colab": {
          "base_uri": "https://localhost:8080/",
          "height": 155
        },
        "outputId": "f3668c07-dd47-4c6a-ea9e-a8ef6ca53704"
      },
      "source": [
        "data = load_cifar10()\n",
        "\n",
        "for k, v in data.items():\n",
        "  print('%s: ' % k, v.shape, v.dtype)"
      ],
      "execution_count": 4,
      "outputs": [
        {
          "output_type": "stream",
          "text": [
            "Downloading data from https://www.cs.toronto.edu/~kriz/cifar-10-python.tar.gz\n",
            "170500096/170498071 [==============================] - 13s 0us/step\n",
            "X_train:  (49000, 32, 32, 3) float64\n",
            "y_train:  (49000, 1) uint8\n",
            "X_val:  (1000, 32, 32, 3) float64\n",
            "y_val:  (1000, 1) uint8\n",
            "X_test:  (10000, 32, 32, 3) float64\n",
            "y_test:  (10000, 1) uint8\n"
          ],
          "name": "stdout"
        }
      ]
    },
    {
      "cell_type": "code",
      "metadata": {
        "id": "Ul00hbuVspLt",
        "colab_type": "code",
        "colab": {}
      },
      "source": [
        "def conv_bn_relu(X, num_filters, filter_size=3, stride=1, pad='same'):\n",
        "  regularizer = tf.keras.regularizers.l2(1e-3)\n",
        "\n",
        "  X = tf.keras.layers.Conv2D(num_filters, filter_size, stride, pad, kernel_regularizer=regularizer)(X)\n",
        "  X = tf.keras.layers.BatchNormalization()(X)\n",
        "  X = tf.keras.layers.Activation('relu')(X)\n",
        "  return X"
      ],
      "execution_count": 0,
      "outputs": []
    },
    {
      "cell_type": "code",
      "metadata": {
        "id": "YWqJj-N-HiIT",
        "colab_type": "code",
        "colab": {}
      },
      "source": [
        "def CustomConvNet(input_shape=(32,32,3), num_classes=10, reg=1e-1):\n",
        "  filters = [32, 64, 128]\n",
        "  regularizer = tf.keras.regularizers.l2(reg)\n",
        "\n",
        "  X_input = tf.keras.Input(input_shape)\n",
        "\n",
        "  X = tf.keras.layers.ZeroPadding2D(padding=1)(X_input)\n",
        "\n",
        "  # stage 1\n",
        "  X = conv_bn_relu(X, filters[0])\n",
        "  X = conv_bn_relu(X, filters[0])\n",
        "  #X = conv_bn_relu(X, filters[0])\n",
        "  X = tf.keras.layers.MaxPool2D(3,2)(X)\n",
        "\n",
        "  # stage 2\n",
        "  X = conv_bn_relu(X, filters[1])\n",
        "  X = conv_bn_relu(X, filters[1])\n",
        "  X = conv_bn_relu(X, filters[1])\n",
        "  X = tf.keras.layers.MaxPool2D(3,2)(X)\n",
        "\n",
        "  # stage 3\n",
        "  X = conv_bn_relu(X, filters[2])\n",
        "  X = conv_bn_relu(X, filters[2])\n",
        "  X = conv_bn_relu(X, filters[2])\n",
        "  X = tf.keras.layers.MaxPool2D(3,2)(X)\n",
        "  #X = tf.keras.layers.AveragePooling2D(2,2)(X)\n",
        "  \n",
        "  # stage 4\n",
        "  X = tf.keras.layers.Flatten()(X)\n",
        "  X = tf.keras.layers.Dense(300, kernel_regularizer=regularizer)(X)\n",
        "  X = tf.keras.layers.Dense(100, kernel_regularizer=regularizer)(X)\n",
        "  X = tf.keras.layers.Dense(num_classes, activation='softmax', kernel_regularizer=regularizer)(X)\n",
        "\n",
        "  model = tf.keras.Model(X_input, X)\n",
        "\n",
        "  return model"
      ],
      "execution_count": 0,
      "outputs": []
    },
    {
      "cell_type": "code",
      "metadata": {
        "id": "QyF4CHHbMrXz",
        "colab_type": "code",
        "colab": {
          "base_uri": "https://localhost:8080/",
          "height": 1000
        },
        "outputId": "71e539fb-4dcb-4d9b-e24f-28f4f5d5b62d"
      },
      "source": [
        "model = CustomConvNet()\n",
        "model.summary()"
      ],
      "execution_count": 26,
      "outputs": [
        {
          "output_type": "stream",
          "text": [
            "Model: \"model_5\"\n",
            "_________________________________________________________________\n",
            "Layer (type)                 Output Shape              Param #   \n",
            "=================================================================\n",
            "input_6 (InputLayer)         [(None, 32, 32, 3)]       0         \n",
            "_________________________________________________________________\n",
            "zero_padding2d_5 (ZeroPaddin (None, 34, 34, 3)         0         \n",
            "_________________________________________________________________\n",
            "conv2d_43 (Conv2D)           (None, 34, 34, 32)        896       \n",
            "_________________________________________________________________\n",
            "batch_normalization_43 (Batc (None, 34, 34, 32)        128       \n",
            "_________________________________________________________________\n",
            "activation_43 (Activation)   (None, 34, 34, 32)        0         \n",
            "_________________________________________________________________\n",
            "conv2d_44 (Conv2D)           (None, 34, 34, 32)        9248      \n",
            "_________________________________________________________________\n",
            "batch_normalization_44 (Batc (None, 34, 34, 32)        128       \n",
            "_________________________________________________________________\n",
            "activation_44 (Activation)   (None, 34, 34, 32)        0         \n",
            "_________________________________________________________________\n",
            "max_pooling2d_14 (MaxPooling (None, 16, 16, 32)        0         \n",
            "_________________________________________________________________\n",
            "conv2d_45 (Conv2D)           (None, 16, 16, 64)        18496     \n",
            "_________________________________________________________________\n",
            "batch_normalization_45 (Batc (None, 16, 16, 64)        256       \n",
            "_________________________________________________________________\n",
            "activation_45 (Activation)   (None, 16, 16, 64)        0         \n",
            "_________________________________________________________________\n",
            "conv2d_46 (Conv2D)           (None, 16, 16, 64)        36928     \n",
            "_________________________________________________________________\n",
            "batch_normalization_46 (Batc (None, 16, 16, 64)        256       \n",
            "_________________________________________________________________\n",
            "activation_46 (Activation)   (None, 16, 16, 64)        0         \n",
            "_________________________________________________________________\n",
            "conv2d_47 (Conv2D)           (None, 16, 16, 64)        36928     \n",
            "_________________________________________________________________\n",
            "batch_normalization_47 (Batc (None, 16, 16, 64)        256       \n",
            "_________________________________________________________________\n",
            "activation_47 (Activation)   (None, 16, 16, 64)        0         \n",
            "_________________________________________________________________\n",
            "max_pooling2d_15 (MaxPooling (None, 7, 7, 64)          0         \n",
            "_________________________________________________________________\n",
            "conv2d_48 (Conv2D)           (None, 7, 7, 128)         73856     \n",
            "_________________________________________________________________\n",
            "batch_normalization_48 (Batc (None, 7, 7, 128)         512       \n",
            "_________________________________________________________________\n",
            "activation_48 (Activation)   (None, 7, 7, 128)         0         \n",
            "_________________________________________________________________\n",
            "conv2d_49 (Conv2D)           (None, 7, 7, 128)         147584    \n",
            "_________________________________________________________________\n",
            "batch_normalization_49 (Batc (None, 7, 7, 128)         512       \n",
            "_________________________________________________________________\n",
            "activation_49 (Activation)   (None, 7, 7, 128)         0         \n",
            "_________________________________________________________________\n",
            "conv2d_50 (Conv2D)           (None, 7, 7, 128)         147584    \n",
            "_________________________________________________________________\n",
            "batch_normalization_50 (Batc (None, 7, 7, 128)         512       \n",
            "_________________________________________________________________\n",
            "activation_50 (Activation)   (None, 7, 7, 128)         0         \n",
            "_________________________________________________________________\n",
            "max_pooling2d_16 (MaxPooling (None, 3, 3, 128)         0         \n",
            "_________________________________________________________________\n",
            "flatten_5 (Flatten)          (None, 1152)              0         \n",
            "_________________________________________________________________\n",
            "dense_15 (Dense)             (None, 300)               345900    \n",
            "_________________________________________________________________\n",
            "dense_16 (Dense)             (None, 100)               30100     \n",
            "_________________________________________________________________\n",
            "dense_17 (Dense)             (None, 10)                1010      \n",
            "=================================================================\n",
            "Total params: 851,090\n",
            "Trainable params: 849,810\n",
            "Non-trainable params: 1,280\n",
            "_________________________________________________________________\n"
          ],
          "name": "stdout"
        }
      ]
    },
    {
      "cell_type": "code",
      "metadata": {
        "id": "cx1yaGnbQSEe",
        "colab_type": "code",
        "colab": {
          "base_uri": "https://localhost:8080/",
          "height": 363
        },
        "outputId": "9212caf3-1637-47d9-eb94-ab1150fc1894"
      },
      "source": [
        "lr = 1e-3\n",
        "\n",
        "model.compile(optimizer=tf.keras.optimizers.Adam(lr),\n",
        "              loss='sparse_categorical_crossentropy',\n",
        "              metrics=['acc'])\n",
        "\n",
        "history = model.fit(data['X_train'], data['y_train'], batch_size=64, epochs=10,\n",
        "                    validation_data=(data['X_val'], data['y_val']))"
      ],
      "execution_count": 27,
      "outputs": [
        {
          "output_type": "stream",
          "text": [
            "Epoch 1/10\n",
            "766/766 [==============================] - 12s 16ms/step - loss: 9.1169 - acc: 0.4473 - val_loss: 1.8861 - val_acc: 0.5870\n",
            "Epoch 2/10\n",
            "766/766 [==============================] - 12s 15ms/step - loss: 1.6410 - acc: 0.6352 - val_loss: 1.7238 - val_acc: 0.5770\n",
            "Epoch 3/10\n",
            "766/766 [==============================] - 12s 15ms/step - loss: 1.3794 - acc: 0.6976 - val_loss: 1.5234 - val_acc: 0.6550\n",
            "Epoch 4/10\n",
            "766/766 [==============================] - 12s 15ms/step - loss: 1.2592 - acc: 0.7319 - val_loss: 1.3029 - val_acc: 0.7140\n",
            "Epoch 5/10\n",
            "766/766 [==============================] - 12s 15ms/step - loss: 1.1922 - acc: 0.7609 - val_loss: 1.4379 - val_acc: 0.6780\n",
            "Epoch 6/10\n",
            "766/766 [==============================] - 12s 15ms/step - loss: 1.1404 - acc: 0.7813 - val_loss: 1.3626 - val_acc: 0.7100\n",
            "Epoch 7/10\n",
            "766/766 [==============================] - 12s 15ms/step - loss: 1.1009 - acc: 0.7949 - val_loss: 1.3009 - val_acc: 0.7470\n",
            "Epoch 8/10\n",
            "766/766 [==============================] - 12s 15ms/step - loss: 1.0688 - acc: 0.8084 - val_loss: 1.1790 - val_acc: 0.7620\n",
            "Epoch 9/10\n",
            "766/766 [==============================] - 12s 15ms/step - loss: 1.0433 - acc: 0.8159 - val_loss: 1.3128 - val_acc: 0.7400\n",
            "Epoch 10/10\n",
            "766/766 [==============================] - 12s 15ms/step - loss: 1.0179 - acc: 0.8241 - val_loss: 1.2035 - val_acc: 0.7640\n"
          ],
          "name": "stdout"
        }
      ]
    },
    {
      "cell_type": "code",
      "metadata": {
        "id": "_W86WyyzRHll",
        "colab_type": "code",
        "colab": {
          "base_uri": "https://localhost:8080/",
          "height": 730
        },
        "outputId": "4dffcfd3-b096-4f25-a10c-7aa63f225b1c"
      },
      "source": [
        "plt.subplot(2, 1, 1)\n",
        "plt.title('Training Loss')\n",
        "plt.plot(history.history['loss'], '-o')\n",
        "plt.xlabel('Epoch')\n",
        "\n",
        "plt.subplot(2, 1, 2)\n",
        "plt.title('Accuracy')\n",
        "plt.plot(history.history['acc'], '-o', label='train')\n",
        "plt.plot(history.history['val_acc'], '-o', label='val')\n",
        "plt.xlabel('Epoch')\n",
        "plt.legend(loc='lower right')\n",
        "plt.gcf().set_size_inches(15, 12)\n",
        "plt.show()"
      ],
      "execution_count": 28,
      "outputs": [
        {
          "output_type": "display_data",
          "data": {
            "image/png": "[encoded data removed]",
            "text/plain": [
              "<Figure size 1080x864 with 2 Axes>"
            ]
          },
          "metadata": {
            "tags": [],
            "needs_background": "light"
          }
        }
      ]
    },
    {
      "cell_type": "code",
      "metadata": {
        "id": "O0TSDma1faJu",
        "colab_type": "code",
        "colab": {
          "base_uri": "https://localhost:8080/",
          "height": 52
        },
        "outputId": "373ce4ff-b2fc-497a-dd39-d360123092aa"
      },
      "source": [
        "model.evaluate(data['X_test'], data['y_test'])"
      ],
      "execution_count": 30,
      "outputs": [
        {
          "output_type": "stream",
          "text": [
            "313/313 [==============================] - 1s 4ms/step - loss: 1.2234 - acc: 0.7477\n"
          ],
          "name": "stdout"
        },
        {
          "output_type": "execute_result",
          "data": {
            "text/plain": [
              "[1.2233827114105225, 0.7476999759674072]"
            ]
          },
          "metadata": {
            "tags": []
          },
          "execution_count": 30
        }
      ]
    }
  ]
}