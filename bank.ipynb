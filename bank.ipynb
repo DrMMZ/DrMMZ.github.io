{
 "cells": [
  {
   "cell_type": "code",
   "execution_count": 1,
   "metadata": {},
   "outputs": [],
   "source": [
    "from nn_model_np import *\n",
    "import numpy as np\n",
    "import matplotlib.pyplot as plt\n",
    "import pandas as pd"
   ]
  },
  {
   "cell_type": "code",
   "execution_count": 2,
   "metadata": {},
   "outputs": [
    {
     "name": "stdout",
     "output_type": "stream",
     "text": [
      "(53, 32950)(1, 32950)(53, 4119)(1, 4119)(53, 4119)(1, 4119)\n"
     ]
    }
   ],
   "source": [
    "X_train = pd.read_csv('X_train.csv', index_col=0)\n",
    "#X_train.head()\n",
    "Y_train = pd.read_csv('Y_train.csv', index_col=0)\n",
    "#Y_train.head()\n",
    "X_dev = pd.read_csv('X_dev.csv', index_col=0)\n",
    "#X_dev.head()\n",
    "Y_dev = pd.read_csv('Y_dev.csv', index_col=0)\n",
    "#Y_dev.head()\n",
    "X_test = pd.read_csv('X_test.csv', index_col=0)\n",
    "#X_test.head()\n",
    "Y_test = pd.read_csv('Y_test.csv', index_col=0)\n",
    "#Y_test.head()\n",
    "\n",
    "X_train = X_train.to_numpy()\n",
    "#X_train.shape\n",
    "#X_train[0:5,0:5]\n",
    "Y_train = Y_train.to_numpy()\n",
    "#Y_train.shape\n",
    "#Y_train[0:5,0:5]\n",
    "X_dev = X_dev.to_numpy()\n",
    "#X_dev.shape\n",
    "#X_dev[0:5,0:5]\n",
    "Y_dev = Y_dev.to_numpy()\n",
    "#Y_dev.shape\n",
    "#Y_dev[0:5,0:5]\n",
    "X_test = X_test.to_numpy()\n",
    "#X_test.shape\n",
    "#X_test[0:5,0:5]\n",
    "Y_test = Y_test.to_numpy()\n",
    "#Y_test.shape\n",
    "#Y_test[0:5,0:5]\n",
    "\n",
    "X_train, Y_train = X_train.T, Y_train.reshape(1, Y_train.shape[0])\n",
    "X_dev, Y_dev = X_dev.T, Y_dev.reshape(1, Y_dev.shape[0])\n",
    "X_test, Y_test = X_test.T, Y_test.reshape(1, Y_test.shape[0])\n",
    "print(str(X_train.shape) + str(Y_train.shape) + str(X_dev.shape) \n",
    "      + str(Y_dev.shape) + str(X_test.shape) + str(Y_test.shape))"
   ]
  },
  {
   "cell_type": "code",
   "execution_count": 3,
   "metadata": {},
   "outputs": [
    {
     "name": "stdout",
     "output_type": "stream",
     "text": [
      "Cost after iteration 0: 0.007455\n",
      "Cost after iteration 100: 0.005585\n",
      "Cost after iteration 200: 0.005564\n",
      "Cost after iteration 300: 0.005578\n",
      "Cost after iteration 400: 0.005522\n"
     ]
    },
    {
     "data": {
      "image/png": "[encoded data removed]",
      "text/plain": [
       "<Figure size 432x288 with 1 Axes>"
      ]
     },
     "metadata": {
      "needs_background": "light"
     },
     "output_type": "display_data"
    },
    {
     "name": "stdout",
     "output_type": "stream",
     "text": [
      "Train F1: 0.6552048987282149\n",
      "Test F1: 0.6424021838034577\n"
     ]
    }
   ],
   "source": [
    "model = nn_model(X_train, Y_train, X_dev, Y_dev,\n",
    "                layers_dims = [X_train.shape[0], 5, 2, 1],\n",
    "                optimizer = \"momentum\", learning_rate = 0.3,\n",
    "                mini_batch_size = 32, beta = 0.9, num_epochs = 500,\n",
    "                print_cost = True, lambd = 0)"
   ]
  },
  {
   "cell_type": "code",
   "execution_count": 4,
   "metadata": {},
   "outputs": [
    {
     "name": "stdout",
     "output_type": "stream",
     "text": [
      "Results on Dev: [0.5702746365105008, 0.7354166666666667, 0.6424021838034577]\n"
     ]
    }
   ],
   "source": [
    "p_dev = predict(X_dev, Y_dev, model)\n",
    "print(\"Results on Dev:\", f1(Y_dev, p_dev))"
   ]
  },
  {
   "cell_type": "code",
   "execution_count": 5,
   "metadata": {},
   "outputs": [
    {
     "name": "stdout",
     "output_type": "stream",
     "text": [
      "Results on Test: [0.5711947626841244, 0.7240663900414938, 0.6386093321134492]\n"
     ]
    }
   ],
   "source": [
    "p_test = predict(X_test, Y_test, model)\n",
    "print(\"Results on Test:\", f1(Y_test, p_test))"
   ]
  }
 ],
 "metadata": {
  "kernelspec": {
   "display_name": "Python 3",
   "language": "python",
   "name": "python3"
  },
  "language_info": {
   "codemirror_mode": {
    "name": "ipython",
    "version": 3
   },
   "file_extension": ".py",
   "mimetype": "text/x-python",
   "name": "python",
   "nbconvert_exporter": "python",
   "pygments_lexer": "ipython3",
   "version": "3.7.5"
  }
 },
 "nbformat": 4,
 "nbformat_minor": 2
}
